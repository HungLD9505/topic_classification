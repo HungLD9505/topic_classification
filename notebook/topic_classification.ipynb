{
 "cells": [
  {
   "cell_type": "code",
   "execution_count": null,
   "id": "a68bf0d3",
   "metadata": {},
   "outputs": [],
   "source": [
    "# -------------------- Imports --------------------\n",
    "import torch\n",
    "import numpy as np\n",
    "import matplotlib.pyplot as plt\n",
    "from collections import Counter\n",
    "from sklearn.model_selection import train_test_split\n",
    "from sklearn.utils import resample\n",
    "from sklearn.metrics import accuracy_score, f1_score, confusion_matrix, ConfusionMatrixDisplay, classification_report\n",
    "from transformers import DistilBertTokenizerFast, DistilBertForSequenceClassification, Trainer, TrainingArguments\n",
    "import random\n",
    "import requests\n",
    "import seaborn as sns\n",
    "from bs4 import BeautifulSoup\n",
    "from concurrent.futures import ThreadPoolExecutor\n",
    "import warnings\n",
    "import json\n",
    "import pandas as pd"
   ]
  },
  {
   "cell_type": "code",
   "execution_count": null,
   "id": "b4573253",
   "metadata": {},
   "outputs": [],
   "source": [
    "# ------------------ Bước 1: Đọc CSV ------------------\n",
    "def load_urls_from_csv(csv_path):\n",
    "    df = pd.read_csv(csv_path)\n",
    "    urls = [str(url).strip() for url in df[\"checked_url\"]]\n",
    "    return [{\"checked_url\": url} for url in urls]"
   ]
  },
  {
   "cell_type": "code",
   "execution_count": null,
   "id": "330f2b2d",
   "metadata": {},
   "outputs": [],
   "source": [
    "# ------------------ Bước 2: Crawl nội dung 1 trang ------------------\n",
    "def fetch_content(url):\n",
    "    try:\n",
    "        resp = requests.get(url, timeout=5, headers={\"User-Agent\": \"Mozilla/5.0\"})\n",
    "        if resp.status_code != 200:\n",
    "            return None\n",
    "\n",
    "        warnings.filterwarnings(\"ignore\")\n",
    "        soup = BeautifulSoup(resp.content, \"html.parser\")\n",
    "\n",
    "        # Loại bỏ các tag không cần thiết\n",
    "        for tag in soup([\"script\", \"style\", \"noscript\", \"footer\", \"nav\", \"form\", \"button\", \"iframe\"]):\n",
    "            tag.extract()\n",
    "\n",
    "        text = \" \".join(soup.get_text().split())\n",
    "\n",
    "        # Bỏ qua text quá ngắn hoặc lỗi\n",
    "        if len(text) < 30 or any(err in text.lower() for err in [\"error\", \"not found\", \"denied\"]):\n",
    "            return None\n",
    "\n",
    "        return text[:5000]  # Giới hạn text\n",
    "    except Exception as e:\n",
    "        with open(\"error_urls.txt\", \"a\", encoding=\"utf-8\") as f:\n",
    "            f.write(f\"{url} | {str(e)}\\n\")\n",
    "        return None"
   ]
  },
  {
   "cell_type": "code",
   "execution_count": null,
   "id": "d30eae3e",
   "metadata": {},
   "outputs": [],
   "source": [
    "# ------------------ Bước 3: Keyword gộp URL + text ------------------\n",
    "keywords_dict = {\n",
    "    \"chính trị\": [\"quochoi\",\"gov\",\"chinhphu\",\"nghiquyet\",\"election\",\"baocu\",\"dang\",\"party\",\"canbo\",\"politics\",\n",
    "                  \"quốc hội\",\"chính phủ\",\"nghị quyết\",\"bầu cử\",\"dân chủ\",\"vote\",\"ứng cử\",\"cơ quan nhà nước\",\n",
    "                  \"luật\",\"chính sách\"],#chính trị\n",
    "    \"cờ bạc\": [\"casino\",\"bet\",\"xoso\",\"nhacai\",\"slot\",\"poker\",\"baccarat\",\"jackpot\",\"danhbac\",\"wager\",\n",
    "               \"cá cược\",\"xổ số\",\"nhà cái\",\"đánh bạc\",\"quay thưởng\",\"vòng quay\",\"trò chơi\",\"đặt cược\",\n",
    "               \"giải đấu\",\"bonus\"], #uy tín, game, bài\n",
    "    \"18+\": [\"phim18\",\"jav\",\"sex\",\"nguoilon\",\"erotic\",\"porn\",\"18plus\",\"adult\",\"hentai\",\"sexvideo\",\n",
    "            \"phim người lớn\",\"xxx\",\"khiêu dâm\",\"video sex\",\"người lớn\",\"nude\",\"quan hệ\",\"sexmovie\",\"adultfilm\",\"pornstar\"]\n",
    "}"
   ]
  },
  {
   "cell_type": "code",
   "execution_count": null,
   "id": "02df70fb",
   "metadata": {},
   "outputs": [],
   "source": [
    "# ------------------ Bước 4: Gán label ------------------\n",
    "def assign_label(url, text, keywords_dict):\n",
    "    url_lower = url.lower()\n",
    "    text_lower = text.lower()\n",
    "\n",
    "    match_count = {}\n",
    "    for topic, kws in keywords_dict.items():\n",
    "        match_count[topic] = sum(1 for kw in kws if kw.lower() in url_lower or kw.lower() in text_lower)\n",
    "\n",
    "    max_count = max(match_count.values())\n",
    "    if max_count == 0:\n",
    "        return \"nội dung khác\"\n",
    "\n",
    "    candidates = [topic for topic, count in match_count.items() if count == max_count]\n",
    "    return candidates[0]"
   ]
  },
  {
   "cell_type": "code",
   "execution_count": null,
   "id": "22a691db",
   "metadata": {},
   "outputs": [],
   "source": [
    "# ------------------ Bước 5: Crawl đa luồng + gán label ------------------\n",
    "def crawl_and_label(urls_with_labels, max_workers=50):\n",
    "    results = []\n",
    "\n",
    "    def worker(item):\n",
    "        text = fetch_content(item[\"checked_url\"])\n",
    "        if text:\n",
    "            label = assign_label(item[\"checked_url\"], text, keywords_dict)\n",
    "            # Tìm các keyword xuất hiện\n",
    "            keywords_found = [kw for kw in sum(keywords_dict.values(), []) if kw.lower() in text.lower() or kw.lower() in item[\"checked_url\"].lower()]\n",
    "            return {\n",
    "                \"url\": item[\"checked_url\"],\n",
    "                \"label\": label,\n",
    "                \"text\": text,\n",
    "                \"keywords_found\": list(set(keywords_found))  # unique\n",
    "            }\n",
    "        return None\n",
    "\n",
    "    with ThreadPoolExecutor(max_workers=max_workers) as executor:\n",
    "        futures = [executor.submit(worker, item) for item in urls_with_labels]\n",
    "        for future in futures:\n",
    "            res = future.result()\n",
    "            if res:\n",
    "                results.append(res)\n",
    "\n",
    "    return results"
   ]
  },
  {
   "cell_type": "code",
   "execution_count": null,
   "id": "54afe1ba",
   "metadata": {},
   "outputs": [],
   "source": [
    "# ------------------ Crawl theo batch ------------------\n",
    "def crawl_all(urls_with_labels, batch_size=5000, max_workers=200):\n",
    "    all_results = []\n",
    "    for i in range(0, len(urls_with_labels), batch_size):\n",
    "        batch = urls_with_labels[i:i+batch_size]\n",
    "        print(f\"Crawl batch {i//batch_size + 1}: {len(batch)} URLs\")\n",
    "        batch_results = crawl_and_label(batch, max_workers=max_workers)\n",
    "        all_results.extend(batch_results)\n",
    "    return all_results"
   ]
  },
  {
   "cell_type": "code",
   "execution_count": null,
   "id": "53780578",
   "metadata": {},
   "outputs": [],
   "source": [
    "# ------------------ Bước 6: Lưu JSON ------------------\n",
    "def save_to_json(data, filename=\"dataset.json\"):\n",
    "    with open(filename, \"w\", encoding=\"utf-8\") as f:\n",
    "        json.dump(data, f, ensure_ascii=False, indent=2)"
   ]
  },
  {
   "cell_type": "code",
   "execution_count": null,
   "id": "e2c497ac",
   "metadata": {},
   "outputs": [],
   "source": [
    "# ------------------ Run pipeline ------------------\n",
    "if __name__ == \"__main__\":\n",
    "    csv_path = \"rules_20250303_classified.csv\"\n",
    "    df = pd.read_csv(csv_path)\n",
    "    urls_with_labels = [{\"checked_url\": str(url).strip()} for url in df[\"checked_url\"]]\n",
    "\n",
    "    dataset = crawl_all(urls_with_labels, batch_size=5000, max_workers=200)\n",
    "\n",
    "    with open(\"dataset.json\", \"w\", encoding=\"utf-8\") as f:\n",
    "        json.dump(dataset, f, ensure_ascii=False, indent=2)\n",
    "\n",
    "    print(f\"Crawl xong, lưu {len(dataset)} mẫu vào dataset.json\")"
   ]
  },
  {
   "cell_type": "code",
   "execution_count": null,
   "id": "f915fa23",
   "metadata": {},
   "outputs": [],
   "source": [
    "# -------------------- Load dataset --------------------\n",
    "with open(\"dataset.json\", \"r\", encoding=\"utf-8\") as f:\n",
    "    data = json.load(f)\n",
    "\n",
    "# Ghép text + keywords_found (list -> string) để làm input\n",
    "texts = []\n",
    "labels = []\n",
    "for item in data:\n",
    "    text_part = item.get(\"text\", \"\")\n",
    "    kw_part = \" \".join(item.get(\"keywords_found\", [])) if isinstance(item.get(\"keywords_found\"), list) else str(item.get(\"keywords_found\"))\n",
    "    combined_text = f\"{item['url']} {text_part} {kw_part}\"\n",
    "    texts.append(combined_text)\n",
    "    labels.append(item[\"label\"])\n",
    "\n",
    "# Ánh xạ label\n",
    "label2id = {\"chính trị\":0, \"cờ bạc\":1, \"18+\":2, \"nội dung khác\":3}\n",
    "id2label = {v:k for k,v in label2id.items()}\n",
    "y = [label2id[lbl] for lbl in labels]"
   ]
  },
  {
   "cell_type": "code",
   "execution_count": null,
   "id": "2090611a",
   "metadata": {},
   "outputs": [],
   "source": [
    "# ==================== PHÂN BỐ BAN ĐẦU ====================\n",
    "label_counts = pd.Series(labels).value_counts()\n",
    "plt.figure(figsize=(6,4))\n",
    "sns.barplot(x=label_counts.index, y=label_counts.values, palette=\"viridis\")\n",
    "plt.title(\"Phân bố nhãn ban đầu\")\n",
    "plt.show()"
   ]
  },
  {
   "cell_type": "code",
   "execution_count": null,
   "id": "9d135c93",
   "metadata": {},
   "outputs": [],
   "source": [
    "# ==================== STRATIFIED SPLIT ====================\n",
    "train_texts, val_texts, train_labels, val_labels = train_test_split(\n",
    "    texts, y, test_size=0.2, random_state=42, stratify=y\n",
    ")\n",
    "print(\"Train size:\", len(train_texts), \"| Val size:\", len(val_texts))"
   ]
  },
  {
   "cell_type": "code",
   "execution_count": null,
   "id": "9a0b6d01",
   "metadata": {},
   "outputs": [],
   "source": [
    "# ==================== OVERSAMPLING ====================\n",
    "train_df = pd.DataFrame({\"text\": train_texts, \"label\": train_labels})\n",
    "train_counts = train_df[\"label\"].value_counts()\n",
    "max_count = train_counts.max()\n",
    "\n",
    "balanced_dfs = []\n",
    "for lbl in train_counts.index:\n",
    "    df_class = train_df[train_df[\"label\"] == lbl]\n",
    "    df_resampled = resample(df_class, replace=True, n_samples=max_count, random_state=42)\n",
    "    balanced_dfs.append(df_resampled)\n",
    "\n",
    "train_df_balanced = pd.concat(balanced_dfs).sample(frac=1, random_state=42).reset_index(drop=True)\n",
    "\n",
    "# Final data\n",
    "train_texts = train_df_balanced[\"text\"].tolist()\n",
    "train_labels = train_df_balanced[\"label\"].tolist()"
   ]
  },
  {
   "cell_type": "code",
   "execution_count": null,
   "id": "2c2a43a9",
   "metadata": {},
   "outputs": [],
   "source": [
    "# ==================== TOKENIZATION ====================\n",
    "tokenizer = DistilBertTokenizerFast.from_pretrained(\"distilbert-base-uncased\")\n",
    "\n",
    "train_encodings = tokenizer(train_texts, truncation=True, padding=True, max_length=512)\n",
    "val_encodings   = tokenizer(val_texts, truncation=True, padding=True, max_length=512)"
   ]
  },
  {
   "cell_type": "code",
   "execution_count": null,
   "id": "12ab66ea",
   "metadata": {},
   "outputs": [],
   "source": [
    "# ==================== TORCH DATASET ====================\n",
    "from torch.utils.data import Dataset\n",
    "class TopicDataset(Dataset):\n",
    "    def __init__(self, encodings, labels):\n",
    "        self.encodings = encodings\n",
    "        self.labels = labels\n",
    "    def __len__(self):\n",
    "        return len(self.labels)\n",
    "    def __getitem__(self, idx):\n",
    "        item = {key: torch.tensor(val[idx]) for key, val in self.encodings.items()}\n",
    "        item[\"labels\"] = torch.tensor(self.labels[idx])\n",
    "        return item\n",
    "\n",
    "train_dataset = TopicDataset(train_encodings, train_labels)\n",
    "val_dataset   = TopicDataset(val_encodings, val_labels)"
   ]
  },
  {
   "cell_type": "code",
   "execution_count": null,
   "id": "9a08f779",
   "metadata": {},
   "outputs": [],
   "source": [
    "# ==================== CLASS WEIGHTS ====================\n",
    "orig_counts = Counter(train_labels)\n",
    "weights = [1.0 / orig_counts.get(i,1) for i in range(len(label2id))]\n",
    "class_weights = torch.tensor(weights, dtype=torch.float)"
   ]
  },
  {
   "cell_type": "code",
   "execution_count": null,
   "id": "38cf1ab1",
   "metadata": {},
   "outputs": [
    {
     "name": "stderr",
     "output_type": "stream",
     "text": [
      "Some weights of DistilBertForSequenceClassification were not initialized from the model checkpoint at distilbert-base-uncased and are newly initialized: ['classifier.bias', 'classifier.weight', 'pre_classifier.bias', 'pre_classifier.weight']\n",
      "You should probably TRAIN this model on a down-stream task to be able to use it for predictions and inference.\n"
     ]
    }
   ],
   "source": [
    "# ==================== MODEL ====================\n",
    "model = DistilBertForSequenceClassification.from_pretrained(\n",
    "    \"distilbert-base-uncased\",\n",
    "    num_labels=len(label2id),\n",
    "    id2label=id2label,\n",
    "    label2id=label2id\n",
    ")\n",
    "def compute_loss(model, inputs, return_outputs=False):\n",
    "    labels = inputs.pop(\"labels\")\n",
    "    outputs = model(**inputs)\n",
    "    logits = outputs.logits\n",
    "    loss_fct = torch.nn.CrossEntropyLoss(weight=class_weights.to(logits.device))\n",
    "    loss = loss_fct(logits, labels)\n",
    "    return (loss, outputs) if return_outputs else loss"
   ]
  },
  {
   "cell_type": "code",
   "execution_count": 25,
   "id": "dd52e2b9",
   "metadata": {},
   "outputs": [],
   "source": [
    "# ==================== METRICS ====================\n",
    "def compute_metrics(pred):\n",
    "    labels = pred.label_ids\n",
    "    preds = np.argmax(pred.predictions, axis=1)\n",
    "    acc = accuracy_score(labels, preds)\n",
    "    f1 = f1_score(labels, preds, average=\"weighted\")\n",
    "    return {\"accuracy\": acc, \"f1\": f1}"
   ]
  },
  {
   "cell_type": "code",
   "execution_count": 26,
   "id": "880f19ef",
   "metadata": {},
   "outputs": [],
   "source": [
    "# ==================== TRAINING ARGS ====================\n",
    "training_args = TrainingArguments(\n",
    "    output_dir=\"./results\",\n",
    "    num_train_epochs=3,\n",
    "    per_device_train_batch_size=16,\n",
    "    per_device_eval_batch_size=16,\n",
    "    eval_strategy=\"epoch\",\n",
    "    save_strategy=\"epoch\",\n",
    "    logging_dir=\"./logs\",\n",
    "    logging_steps=50,\n",
    "    learning_rate=5e-5,\n",
    "    weight_decay=0.01,\n",
    "    load_best_model_at_end=True,\n",
    "    metric_for_best_model=\"f1\"\n",
    ")"
   ]
  },
  {
   "cell_type": "code",
   "execution_count": null,
   "id": "a646a169",
   "metadata": {},
   "outputs": [],
   "source": [
    "class MyTrainer(Trainer):\n",
    "    def compute_loss(self, model, inputs, return_outputs=False, **kwargs):\n",
    "        # **kwargs sẽ nhận bất kỳ tham số thừa nào (như num_items_in_batch)\n",
    "        labels = inputs.pop(\"labels\")\n",
    "        outputs = model(**inputs)\n",
    "        logits = outputs.logits\n",
    "        loss_fct = torch.nn.CrossEntropyLoss(weight=class_weights.to(logits.device))\n",
    "        loss = loss_fct(logits, labels)\n",
    "        return (loss, outputs) if return_outputs else loss"
   ]
  },
  {
   "cell_type": "code",
   "execution_count": 42,
   "id": "c63c9394",
   "metadata": {},
   "outputs": [
    {
     "name": "stderr",
     "output_type": "stream",
     "text": [
      "--- Logging error ---\n",
      "Traceback (most recent call last):\n",
      "  File \"c:\\Users\\HP\\AppData\\Local\\Programs\\Python\\Python313\\Lib\\logging\\__init__.py\", line 1154, in emit\n",
      "    stream.write(msg + self.terminator)\n",
      "    ~~~~~~~~~~~~^^^^^^^^^^^^^^^^^^^^^^^\n",
      "  File \"c:\\Users\\HP\\AppData\\Local\\Programs\\Python\\Python313\\Lib\\encodings\\cp1252.py\", line 19, in encode\n",
      "    return codecs.charmap_encode(input,self.errors,encoding_table)[0]\n",
      "           ~~~~~~~~~~~~~~~~~~~~~^^^^^^^^^^^^^^^^^^^^^^^^^^^^^^^^^^\n",
      "UnicodeEncodeError: 'charmap' codec can't encode character '\\u1ecb' in position 807: character maps to <undefined>\n",
      "Call stack:\n",
      "  File \"<frozen runpy>\", line 198, in _run_module_as_main\n",
      "  File \"<frozen runpy>\", line 88, in _run_code\n",
      "  File \"C:\\Users\\HP\\AppData\\Roaming\\Python\\Python313\\site-packages\\ipykernel_launcher.py\", line 18, in <module>\n",
      "    app.launch_new_instance()\n",
      "  File \"C:\\Users\\HP\\AppData\\Roaming\\Python\\Python313\\site-packages\\traitlets\\config\\application.py\", line 1075, in launch_instance\n",
      "    app.start()\n",
      "  File \"C:\\Users\\HP\\AppData\\Roaming\\Python\\Python313\\site-packages\\ipykernel\\kernelapp.py\", line 739, in start\n",
      "    self.io_loop.start()\n",
      "  File \"C:\\Users\\HP\\AppData\\Roaming\\Python\\Python313\\site-packages\\tornado\\platform\\asyncio.py\", line 211, in start\n",
      "    self.asyncio_loop.run_forever()\n",
      "  File \"c:\\Users\\HP\\AppData\\Local\\Programs\\Python\\Python313\\Lib\\asyncio\\base_events.py\", line 683, in run_forever\n",
      "    self._run_once()\n",
      "  File \"c:\\Users\\HP\\AppData\\Local\\Programs\\Python\\Python313\\Lib\\asyncio\\base_events.py\", line 2050, in _run_once\n",
      "    handle._run()\n",
      "  File \"c:\\Users\\HP\\AppData\\Local\\Programs\\Python\\Python313\\Lib\\asyncio\\events.py\", line 89, in _run\n",
      "    self._context.run(self._callback, *self._args)\n",
      "  File \"C:\\Users\\HP\\AppData\\Roaming\\Python\\Python313\\site-packages\\ipykernel\\kernelbase.py\", line 545, in dispatch_queue\n",
      "    await self.process_one()\n",
      "  File \"C:\\Users\\HP\\AppData\\Roaming\\Python\\Python313\\site-packages\\ipykernel\\kernelbase.py\", line 534, in process_one\n",
      "    await dispatch(*args)\n",
      "  File \"C:\\Users\\HP\\AppData\\Roaming\\Python\\Python313\\site-packages\\ipykernel\\kernelbase.py\", line 437, in dispatch_shell\n",
      "    await result\n",
      "  File \"C:\\Users\\HP\\AppData\\Roaming\\Python\\Python313\\site-packages\\ipykernel\\ipkernel.py\", line 362, in execute_request\n",
      "    await super().execute_request(stream, ident, parent)\n",
      "  File \"C:\\Users\\HP\\AppData\\Roaming\\Python\\Python313\\site-packages\\ipykernel\\kernelbase.py\", line 778, in execute_request\n",
      "    reply_content = await reply_content\n",
      "  File \"C:\\Users\\HP\\AppData\\Roaming\\Python\\Python313\\site-packages\\ipykernel\\ipkernel.py\", line 449, in do_execute\n",
      "    res = shell.run_cell(\n",
      "  File \"C:\\Users\\HP\\AppData\\Roaming\\Python\\Python313\\site-packages\\ipykernel\\zmqshell.py\", line 549, in run_cell\n",
      "    return super().run_cell(*args, **kwargs)\n",
      "  File \"C:\\Users\\HP\\AppData\\Roaming\\Python\\Python313\\site-packages\\IPython\\core\\interactiveshell.py\", line 3098, in run_cell\n",
      "    result = self._run_cell(\n",
      "  File \"C:\\Users\\HP\\AppData\\Roaming\\Python\\Python313\\site-packages\\IPython\\core\\interactiveshell.py\", line 3153, in _run_cell\n",
      "    result = runner(coro)\n",
      "  File \"C:\\Users\\HP\\AppData\\Roaming\\Python\\Python313\\site-packages\\IPython\\core\\async_helpers.py\", line 128, in _pseudo_sync_runner\n",
      "    coro.send(None)\n",
      "  File \"C:\\Users\\HP\\AppData\\Roaming\\Python\\Python313\\site-packages\\IPython\\core\\interactiveshell.py\", line 3365, in run_cell_async\n",
      "    has_raised = await self.run_ast_nodes(code_ast.body, cell_name,\n",
      "  File \"C:\\Users\\HP\\AppData\\Roaming\\Python\\Python313\\site-packages\\IPython\\core\\interactiveshell.py\", line 3610, in run_ast_nodes\n",
      "    if await self.run_code(code, result, async_=asy):\n",
      "  File \"C:\\Users\\HP\\AppData\\Roaming\\Python\\Python313\\site-packages\\IPython\\core\\interactiveshell.py\", line 3670, in run_code\n",
      "    exec(code_obj, self.user_global_ns, self.user_ns)\n",
      "  File \"C:\\Users\\HP\\AppData\\Local\\Temp\\ipykernel_14496\\2206866570.py\", line 9, in <module>\n",
      "    trainer.train()\n",
      "  File \"c:\\Users\\HP\\AppData\\Local\\Programs\\Python\\Python313\\Lib\\site-packages\\transformers\\trainer.py\", line 2328, in train\n",
      "    if len_dataloader is not None\n",
      "  File \"c:\\Users\\HP\\AppData\\Local\\Programs\\Python\\Python313\\Lib\\site-packages\\transformers\\trainer.py\", line 2578, in _inner_training_loop\n",
      "    run_dir = self.args.output_dir\n",
      "  File \"c:\\Users\\HP\\AppData\\Local\\Programs\\Python\\Python313\\Lib\\site-packages\\transformers\\trainer_callback.py\", line 506, in on_train_begin\n",
      "  File \"c:\\Users\\HP\\AppData\\Local\\Programs\\Python\\Python313\\Lib\\site-packages\\transformers\\trainer_callback.py\", line 556, in call_event\n",
      "    args.save_strategy == IntervalStrategy.STEPS\n",
      "  File \"c:\\Users\\HP\\AppData\\Local\\Programs\\Python\\Python313\\Lib\\site-packages\\transformers\\integrations\\integration_utils.py\", line 968, in on_train_begin\n",
      "    non_scalar_logs = {k: v for k, v in logs.items() if k not in single_value_scalars}\n",
      "  File \"c:\\Users\\HP\\AppData\\Local\\Programs\\Python\\Python313\\Lib\\site-packages\\transformers\\integrations\\integration_utils.py\", line 900, in setup\n",
      "  File \"C:\\Users\\HP\\AppData\\Roaming\\Python\\Python313\\site-packages\\wandb\\sdk\\wandb_config.py\", line 189, in update\n",
      "    self._callback(data=sanitized)\n",
      "  File \"C:\\Users\\HP\\AppData\\Roaming\\Python\\Python313\\site-packages\\wandb\\sdk\\wandb_run.py\", line 401, in wrapper_fn\n",
      "    return func(self, *args, **kwargs)\n",
      "  File \"C:\\Users\\HP\\AppData\\Roaming\\Python\\Python313\\site-packages\\wandb\\sdk\\wandb_run.py\", line 1261, in _config_callback\n",
      "    logger.info(f\"config_cb {key} {val} {data}\")\n",
      "Message: \"config_cb None None {'vocab_size': 30522, 'max_position_embeddings': 512, 'sinusoidal_pos_embds': False, 'n_layers': 6, 'n_heads': 12, 'dim': 768, 'hidden_dim': 3072, 'dropout': 0.1, 'attention_dropout': 0.1, 'activation': 'gelu', 'initializer_range': 0.02, 'qa_dropout': 0.1, 'seq_classif_dropout': 0.2, 'return_dict': True, 'output_hidden_states': False, 'torchscript': False, 'dtype': 'float32', 'pruned_heads': {}, 'tie_word_embeddings': True, 'chunk_size_feed_forward': 0, 'is_encoder_decoder': False, 'is_decoder': False, 'cross_attention_hidden_size': None, 'add_cross_attention': False, 'tie_encoder_decoder': False, 'architectures': ['DistilBertForMaskedLM'], 'finetuning_task': None, 'id2label': {0: 'chính trị', 1: 'cờ bạc', 2: '18+', 3: 'nội dung khác'}, 'label2id': {'chính trị': 0, 'cờ bạc': 1, '18+': 2, 'nội dung khác': 3}, 'task_specific_params': None, 'problem_type': None, 'tokenizer_class': None, 'prefix': None, 'bos_token_id': None, 'pad_token_id': 0, 'eos_token_id': None, 'sep_token_id': None, 'decoder_start_token_id': None, 'max_length': 20, 'min_length': 0, 'do_sample': False, 'early_stopping': False, 'num_beams': 1, 'num_beam_groups': 1, 'diversity_penalty': 0.0, 'temperature': 1.0, 'top_k': 50, 'top_p': 1.0, 'typical_p': 1.0, 'repetition_penalty': 1.0, 'length_penalty': 1.0, 'no_repeat_ngram_size': 0, 'encoder_no_repeat_ngram_size': 0, 'bad_words_ids': None, 'num_return_sequences': 1, 'output_scores': False, 'return_dict_in_generate': False, 'forced_bos_token_id': None, 'forced_eos_token_id': None, 'remove_invalid_values': False, 'exponential_decay_length_penalty': None, 'suppress_tokens': None, 'begin_suppress_tokens': None, '_name_or_path': 'distilbert-base-uncased', 'transformers_version': '4.56.2', 'model_type': 'distilbert', 'tie_weights_': True, 'tf_legacy_loss': False, 'use_bfloat16': False, 'output_attentions': False, 'output_dir': './results', 'overwrite_output_dir': False, 'do_train': False, 'do_eval': True, 'do_predict': False, 'eval_strategy': 'epoch', 'prediction_loss_only': False, 'per_device_train_batch_size': 16, 'per_device_eval_batch_size': 16, 'per_gpu_train_batch_size': None, 'per_gpu_eval_batch_size': None, 'gradient_accumulation_steps': 1, 'eval_accumulation_steps': None, 'eval_delay': 0, 'torch_empty_cache_steps': None, 'learning_rate': 5e-05, 'weight_decay': 0.01, 'adam_beta1': 0.9, 'adam_beta2': 0.999, 'adam_epsilon': 1e-08, 'max_grad_norm': 1.0, 'num_train_epochs': 3, 'max_steps': -1, 'lr_scheduler_type': 'linear', 'lr_scheduler_kwargs': {}, 'warmup_ratio': 0.0, 'warmup_steps': 0, 'log_level': 'passive', 'log_level_replica': 'warning', 'log_on_each_node': True, 'logging_dir': './logs', 'logging_strategy': 'steps', 'logging_first_step': False, 'logging_steps': 50, 'logging_nan_inf_filter': True, 'save_strategy': 'epoch', 'save_steps': 500, 'save_total_limit': None, 'save_safetensors': True, 'save_on_each_node': False, 'save_only_model': False, 'restore_callback_states_from_checkpoint': False, 'no_cuda': False, 'use_cpu': False, 'use_mps_device': False, 'seed': 42, 'data_seed': None, 'jit_mode_eval': False, 'use_ipex': False, 'bf16': False, 'fp16': False, 'fp16_opt_level': 'O1', 'half_precision_backend': 'auto', 'bf16_full_eval': False, 'fp16_full_eval': False, 'tf32': None, 'local_rank': 0, 'ddp_backend': None, 'tpu_num_cores': None, 'tpu_metrics_debug': False, 'debug': [], 'dataloader_drop_last': False, 'eval_steps': None, 'dataloader_num_workers': 0, 'dataloader_prefetch_factor': None, 'past_index': -1, 'run_name': None, 'disable_tqdm': False, 'remove_unused_columns': True, 'label_names': None, 'load_best_model_at_end': True, 'metric_for_best_model': 'f1', 'greater_is_better': True, 'ignore_data_skip': False, 'fsdp': [], 'fsdp_min_num_params': 0, 'fsdp_config': {'min_num_params': 0, 'xla': False, 'xla_fsdp_v2': False, 'xla_fsdp_grad_ckpt': False}, 'fsdp_transformer_layer_cls_to_wrap': None, 'accelerator_config': {'split_batches': False, 'dispatch_batches': None, 'even_batches': True, 'use_seedable_sampler': True, 'non_blocking': False, 'gradient_accumulation_kwargs': None}, 'parallelism_config': None, 'deepspeed': None, 'label_smoothing_factor': 0.0, 'optim': 'adamw_torch_fused', 'optim_args': None, 'adafactor': False, 'group_by_length': False, 'length_column_name': 'length', 'report_to': ['wandb'], 'ddp_find_unused_parameters': None, 'ddp_bucket_cap_mb': None, 'ddp_broadcast_buffers': None, 'dataloader_pin_memory': True, 'dataloader_persistent_workers': False, 'skip_memory_metrics': True, 'use_legacy_prediction_loop': False, 'push_to_hub': False, 'resume_from_checkpoint': None, 'hub_model_id': None, 'hub_strategy': 'every_save', 'hub_token': '<HUB_TOKEN>', 'hub_private_repo': None, 'hub_always_push': False, 'hub_revision': None, 'gradient_checkpointing': False, 'gradient_checkpointing_kwargs': None, 'include_inputs_for_metrics': False, 'include_for_metrics': [], 'eval_do_concat_batches': True, 'fp16_backend': 'auto', 'push_to_hub_model_id': None, 'push_to_hub_organization': None, 'push_to_hub_token': '<PUSH_TO_HUB_TOKEN>', 'mp_parameters': '', 'auto_find_batch_size': False, 'full_determinism': False, 'torchdynamo': None, 'ray_scope': 'last', 'ddp_timeout': 1800, 'torch_compile': False, 'torch_compile_backend': None, 'torch_compile_mode': None, 'include_tokens_per_second': False, 'include_num_input_tokens_seen': False, 'neftune_noise_alpha': None, 'optim_target_modules': None, 'batch_eval_metrics': False, 'eval_on_start': False, 'use_liger_kernel': False, 'liger_kernel_config': None, 'eval_use_gather_object': False, 'average_tokens_across_devices': False}\"\n",
      "Arguments: ()\n",
      "--- Logging error ---\n",
      "Traceback (most recent call last):\n",
      "  File \"c:\\Users\\HP\\AppData\\Local\\Programs\\Python\\Python313\\Lib\\logging\\__init__.py\", line 1154, in emit\n",
      "    stream.write(msg + self.terminator)\n",
      "    ~~~~~~~~~~~~^^^^^^^^^^^^^^^^^^^^^^^\n",
      "  File \"c:\\Users\\HP\\AppData\\Local\\Programs\\Python\\Python313\\Lib\\encodings\\cp1252.py\", line 19, in encode\n",
      "    return codecs.charmap_encode(input,self.errors,encoding_table)[0]\n",
      "           ~~~~~~~~~~~~~~~~~~~~~^^^^^^^^^^^^^^^^^^^^^^^^^^^^^^^^^^\n",
      "UnicodeEncodeError: 'charmap' codec can't encode character '\\u1ecb' in position 807: character maps to <undefined>\n",
      "Call stack:\n",
      "  File \"<frozen runpy>\", line 198, in _run_module_as_main\n",
      "  File \"<frozen runpy>\", line 88, in _run_code\n",
      "  File \"C:\\Users\\HP\\AppData\\Roaming\\Python\\Python313\\site-packages\\ipykernel_launcher.py\", line 18, in <module>\n",
      "    app.launch_new_instance()\n",
      "  File \"C:\\Users\\HP\\AppData\\Roaming\\Python\\Python313\\site-packages\\traitlets\\config\\application.py\", line 1075, in launch_instance\n",
      "    app.start()\n",
      "  File \"C:\\Users\\HP\\AppData\\Roaming\\Python\\Python313\\site-packages\\ipykernel\\kernelapp.py\", line 739, in start\n",
      "    self.io_loop.start()\n",
      "  File \"C:\\Users\\HP\\AppData\\Roaming\\Python\\Python313\\site-packages\\tornado\\platform\\asyncio.py\", line 211, in start\n",
      "    self.asyncio_loop.run_forever()\n",
      "  File \"c:\\Users\\HP\\AppData\\Local\\Programs\\Python\\Python313\\Lib\\asyncio\\base_events.py\", line 683, in run_forever\n",
      "    self._run_once()\n",
      "  File \"c:\\Users\\HP\\AppData\\Local\\Programs\\Python\\Python313\\Lib\\asyncio\\base_events.py\", line 2050, in _run_once\n",
      "    handle._run()\n",
      "  File \"c:\\Users\\HP\\AppData\\Local\\Programs\\Python\\Python313\\Lib\\asyncio\\events.py\", line 89, in _run\n",
      "    self._context.run(self._callback, *self._args)\n",
      "  File \"C:\\Users\\HP\\AppData\\Roaming\\Python\\Python313\\site-packages\\ipykernel\\kernelbase.py\", line 545, in dispatch_queue\n",
      "    await self.process_one()\n",
      "  File \"C:\\Users\\HP\\AppData\\Roaming\\Python\\Python313\\site-packages\\ipykernel\\kernelbase.py\", line 534, in process_one\n",
      "    await dispatch(*args)\n",
      "  File \"C:\\Users\\HP\\AppData\\Roaming\\Python\\Python313\\site-packages\\ipykernel\\kernelbase.py\", line 437, in dispatch_shell\n",
      "    await result\n",
      "  File \"C:\\Users\\HP\\AppData\\Roaming\\Python\\Python313\\site-packages\\ipykernel\\ipkernel.py\", line 362, in execute_request\n",
      "    await super().execute_request(stream, ident, parent)\n",
      "  File \"C:\\Users\\HP\\AppData\\Roaming\\Python\\Python313\\site-packages\\ipykernel\\kernelbase.py\", line 778, in execute_request\n",
      "    reply_content = await reply_content\n",
      "  File \"C:\\Users\\HP\\AppData\\Roaming\\Python\\Python313\\site-packages\\ipykernel\\ipkernel.py\", line 449, in do_execute\n",
      "    res = shell.run_cell(\n",
      "  File \"C:\\Users\\HP\\AppData\\Roaming\\Python\\Python313\\site-packages\\ipykernel\\zmqshell.py\", line 549, in run_cell\n",
      "    return super().run_cell(*args, **kwargs)\n",
      "  File \"C:\\Users\\HP\\AppData\\Roaming\\Python\\Python313\\site-packages\\IPython\\core\\interactiveshell.py\", line 3098, in run_cell\n",
      "    result = self._run_cell(\n",
      "  File \"C:\\Users\\HP\\AppData\\Roaming\\Python\\Python313\\site-packages\\IPython\\core\\interactiveshell.py\", line 3153, in _run_cell\n",
      "    result = runner(coro)\n",
      "  File \"C:\\Users\\HP\\AppData\\Roaming\\Python\\Python313\\site-packages\\IPython\\core\\async_helpers.py\", line 128, in _pseudo_sync_runner\n",
      "    coro.send(None)\n",
      "  File \"C:\\Users\\HP\\AppData\\Roaming\\Python\\Python313\\site-packages\\IPython\\core\\interactiveshell.py\", line 3365, in run_cell_async\n",
      "    has_raised = await self.run_ast_nodes(code_ast.body, cell_name,\n",
      "  File \"C:\\Users\\HP\\AppData\\Roaming\\Python\\Python313\\site-packages\\IPython\\core\\interactiveshell.py\", line 3610, in run_ast_nodes\n",
      "    if await self.run_code(code, result, async_=asy):\n",
      "  File \"C:\\Users\\HP\\AppData\\Roaming\\Python\\Python313\\site-packages\\IPython\\core\\interactiveshell.py\", line 3670, in run_code\n",
      "    exec(code_obj, self.user_global_ns, self.user_ns)\n",
      "  File \"C:\\Users\\HP\\AppData\\Local\\Temp\\ipykernel_14496\\2206866570.py\", line 9, in <module>\n",
      "    trainer.train()\n",
      "  File \"c:\\Users\\HP\\AppData\\Local\\Programs\\Python\\Python313\\Lib\\site-packages\\transformers\\trainer.py\", line 2328, in train\n",
      "    if len_dataloader is not None\n",
      "  File \"c:\\Users\\HP\\AppData\\Local\\Programs\\Python\\Python313\\Lib\\site-packages\\transformers\\trainer.py\", line 2578, in _inner_training_loop\n",
      "    run_dir = self.args.output_dir\n",
      "  File \"c:\\Users\\HP\\AppData\\Local\\Programs\\Python\\Python313\\Lib\\site-packages\\transformers\\trainer_callback.py\", line 506, in on_train_begin\n",
      "  File \"c:\\Users\\HP\\AppData\\Local\\Programs\\Python\\Python313\\Lib\\site-packages\\transformers\\trainer_callback.py\", line 556, in call_event\n",
      "    args.save_strategy == IntervalStrategy.STEPS\n",
      "  File \"c:\\Users\\HP\\AppData\\Local\\Programs\\Python\\Python313\\Lib\\site-packages\\transformers\\integrations\\integration_utils.py\", line 968, in on_train_begin\n",
      "    non_scalar_logs = {k: v for k, v in logs.items() if k not in single_value_scalars}\n",
      "  File \"c:\\Users\\HP\\AppData\\Local\\Programs\\Python\\Python313\\Lib\\site-packages\\transformers\\integrations\\integration_utils.py\", line 900, in setup\n",
      "  File \"C:\\Users\\HP\\AppData\\Roaming\\Python\\Python313\\site-packages\\wandb\\sdk\\wandb_config.py\", line 189, in update\n",
      "    self._callback(data=sanitized)\n",
      "  File \"C:\\Users\\HP\\AppData\\Roaming\\Python\\Python313\\site-packages\\wandb\\sdk\\wandb_run.py\", line 401, in wrapper_fn\n",
      "    return func(self, *args, **kwargs)\n",
      "  File \"C:\\Users\\HP\\AppData\\Roaming\\Python\\Python313\\site-packages\\wandb\\sdk\\wandb_run.py\", line 1261, in _config_callback\n",
      "    logger.info(f\"config_cb {key} {val} {data}\")\n",
      "Message: \"config_cb None None {'vocab_size': 30522, 'max_position_embeddings': 512, 'sinusoidal_pos_embds': False, 'n_layers': 6, 'n_heads': 12, 'dim': 768, 'hidden_dim': 3072, 'dropout': 0.1, 'attention_dropout': 0.1, 'activation': 'gelu', 'initializer_range': 0.02, 'qa_dropout': 0.1, 'seq_classif_dropout': 0.2, 'return_dict': True, 'output_hidden_states': False, 'torchscript': False, 'dtype': 'float32', 'pruned_heads': {}, 'tie_word_embeddings': True, 'chunk_size_feed_forward': 0, 'is_encoder_decoder': False, 'is_decoder': False, 'cross_attention_hidden_size': None, 'add_cross_attention': False, 'tie_encoder_decoder': False, 'architectures': ['DistilBertForMaskedLM'], 'finetuning_task': None, 'id2label': {0: 'chính trị', 1: 'cờ bạc', 2: '18+', 3: 'nội dung khác'}, 'label2id': {'chính trị': 0, 'cờ bạc': 1, '18+': 2, 'nội dung khác': 3}, 'task_specific_params': None, 'problem_type': None, 'tokenizer_class': None, 'prefix': None, 'bos_token_id': None, 'pad_token_id': 0, 'eos_token_id': None, 'sep_token_id': None, 'decoder_start_token_id': None, 'max_length': 20, 'min_length': 0, 'do_sample': False, 'early_stopping': False, 'num_beams': 1, 'num_beam_groups': 1, 'diversity_penalty': 0.0, 'temperature': 1.0, 'top_k': 50, 'top_p': 1.0, 'typical_p': 1.0, 'repetition_penalty': 1.0, 'length_penalty': 1.0, 'no_repeat_ngram_size': 0, 'encoder_no_repeat_ngram_size': 0, 'bad_words_ids': None, 'num_return_sequences': 1, 'output_scores': False, 'return_dict_in_generate': False, 'forced_bos_token_id': None, 'forced_eos_token_id': None, 'remove_invalid_values': False, 'exponential_decay_length_penalty': None, 'suppress_tokens': None, 'begin_suppress_tokens': None, '_name_or_path': 'distilbert-base-uncased', 'transformers_version': '4.56.2', 'model_type': 'distilbert', 'tie_weights_': True, 'tf_legacy_loss': False, 'use_bfloat16': False, 'output_attentions': False, 'output_dir': './results', 'overwrite_output_dir': False, 'do_train': False, 'do_eval': True, 'do_predict': False, 'eval_strategy': 'epoch', 'prediction_loss_only': False, 'per_device_train_batch_size': 16, 'per_device_eval_batch_size': 16, 'per_gpu_train_batch_size': None, 'per_gpu_eval_batch_size': None, 'gradient_accumulation_steps': 1, 'eval_accumulation_steps': None, 'eval_delay': 0, 'torch_empty_cache_steps': None, 'learning_rate': 5e-05, 'weight_decay': 0.01, 'adam_beta1': 0.9, 'adam_beta2': 0.999, 'adam_epsilon': 1e-08, 'max_grad_norm': 1.0, 'num_train_epochs': 3, 'max_steps': -1, 'lr_scheduler_type': 'linear', 'lr_scheduler_kwargs': {}, 'warmup_ratio': 0.0, 'warmup_steps': 0, 'log_level': 'passive', 'log_level_replica': 'warning', 'log_on_each_node': True, 'logging_dir': './logs', 'logging_strategy': 'steps', 'logging_first_step': False, 'logging_steps': 50, 'logging_nan_inf_filter': True, 'save_strategy': 'epoch', 'save_steps': 500, 'save_total_limit': None, 'save_safetensors': True, 'save_on_each_node': False, 'save_only_model': False, 'restore_callback_states_from_checkpoint': False, 'no_cuda': False, 'use_cpu': False, 'use_mps_device': False, 'seed': 42, 'data_seed': None, 'jit_mode_eval': False, 'use_ipex': False, 'bf16': False, 'fp16': False, 'fp16_opt_level': 'O1', 'half_precision_backend': 'auto', 'bf16_full_eval': False, 'fp16_full_eval': False, 'tf32': None, 'local_rank': 0, 'ddp_backend': None, 'tpu_num_cores': None, 'tpu_metrics_debug': False, 'debug': [], 'dataloader_drop_last': False, 'eval_steps': None, 'dataloader_num_workers': 0, 'dataloader_prefetch_factor': None, 'past_index': -1, 'run_name': None, 'disable_tqdm': False, 'remove_unused_columns': True, 'label_names': None, 'load_best_model_at_end': True, 'metric_for_best_model': 'f1', 'greater_is_better': True, 'ignore_data_skip': False, 'fsdp': [], 'fsdp_min_num_params': 0, 'fsdp_config': {'min_num_params': 0, 'xla': False, 'xla_fsdp_v2': False, 'xla_fsdp_grad_ckpt': False}, 'fsdp_transformer_layer_cls_to_wrap': None, 'accelerator_config': {'split_batches': False, 'dispatch_batches': None, 'even_batches': True, 'use_seedable_sampler': True, 'non_blocking': False, 'gradient_accumulation_kwargs': None}, 'parallelism_config': None, 'deepspeed': None, 'label_smoothing_factor': 0.0, 'optim': 'adamw_torch_fused', 'optim_args': None, 'adafactor': False, 'group_by_length': False, 'length_column_name': 'length', 'report_to': ['wandb'], 'ddp_find_unused_parameters': None, 'ddp_bucket_cap_mb': None, 'ddp_broadcast_buffers': None, 'dataloader_pin_memory': True, 'dataloader_persistent_workers': False, 'skip_memory_metrics': True, 'use_legacy_prediction_loop': False, 'push_to_hub': False, 'resume_from_checkpoint': None, 'hub_model_id': None, 'hub_strategy': 'every_save', 'hub_token': '<HUB_TOKEN>', 'hub_private_repo': None, 'hub_always_push': False, 'hub_revision': None, 'gradient_checkpointing': False, 'gradient_checkpointing_kwargs': None, 'include_inputs_for_metrics': False, 'include_for_metrics': [], 'eval_do_concat_batches': True, 'fp16_backend': 'auto', 'push_to_hub_model_id': None, 'push_to_hub_organization': None, 'push_to_hub_token': '<PUSH_TO_HUB_TOKEN>', 'mp_parameters': '', 'auto_find_batch_size': False, 'full_determinism': False, 'torchdynamo': None, 'ray_scope': 'last', 'ddp_timeout': 1800, 'torch_compile': False, 'torch_compile_backend': None, 'torch_compile_mode': None, 'include_tokens_per_second': False, 'include_num_input_tokens_seen': False, 'neftune_noise_alpha': None, 'optim_target_modules': None, 'batch_eval_metrics': False, 'eval_on_start': False, 'use_liger_kernel': False, 'liger_kernel_config': None, 'eval_use_gather_object': False, 'average_tokens_across_devices': False}\"\n",
      "Arguments: ()\n"
     ]
    },
    {
     "data": {
      "text/html": [
       "\n",
       "    <div>\n",
       "      \n",
       "      <progress value='20757' max='20757' style='width:300px; height:20px; vertical-align: middle;'></progress>\n",
       "      [20757/20757 12:31:45, Epoch 3/3]\n",
       "    </div>\n",
       "    <table border=\"1\" class=\"dataframe\">\n",
       "  <thead>\n",
       " <tr style=\"text-align: left;\">\n",
       "      <th>Epoch</th>\n",
       "      <th>Training Loss</th>\n",
       "      <th>Validation Loss</th>\n",
       "      <th>Accuracy</th>\n",
       "      <th>F1</th>\n",
       "    </tr>\n",
       "  </thead>\n",
       "  <tbody>\n",
       "    <tr>\n",
       "      <td>1</td>\n",
       "      <td>0.026100</td>\n",
       "      <td>0.211975</td>\n",
       "      <td>0.965727</td>\n",
       "      <td>0.966501</td>\n",
       "    </tr>\n",
       "    <tr>\n",
       "      <td>2</td>\n",
       "      <td>0.022400</td>\n",
       "      <td>0.195516</td>\n",
       "      <td>0.973064</td>\n",
       "      <td>0.973060</td>\n",
       "    </tr>\n",
       "    <tr>\n",
       "      <td>3</td>\n",
       "      <td>0.000100</td>\n",
       "      <td>0.238652</td>\n",
       "      <td>0.973273</td>\n",
       "      <td>0.973258</td>\n",
       "    </tr>\n",
       "  </tbody>\n",
       "</table><p>"
      ],
      "text/plain": [
       "<IPython.core.display.HTML object>"
      ]
     },
     "metadata": {},
     "output_type": "display_data"
    },
    {
     "data": {
      "text/plain": [
       "TrainOutput(global_step=20757, training_loss=0.044624984437677366, metrics={'train_runtime': 45106.8463, 'train_samples_per_second': 7.363, 'train_steps_per_second': 0.46, 'total_flos': 4.39939921784832e+16, 'train_loss': 0.044624984437677366, 'epoch': 3.0})"
      ]
     },
     "execution_count": 42,
     "metadata": {},
     "output_type": "execute_result"
    }
   ],
   "source": [
    "# ==================== TRAIN ====================\n",
    "trainer = MyTrainer(\n",
    "    model=model,\n",
    "    args=training_args,\n",
    "    train_dataset=train_dataset,\n",
    "    eval_dataset=val_dataset,\n",
    "    compute_metrics=compute_metrics,\n",
    "    compute_loss_func=compute_loss)\n",
    "trainer.train()\n"
   ]
  },
  {
   "cell_type": "code",
   "execution_count": 43,
   "id": "5527ae42",
   "metadata": {},
   "outputs": [
    {
     "data": {
      "text/html": [],
      "text/plain": [
       "<IPython.core.display.HTML object>"
      ]
     },
     "metadata": {},
     "output_type": "display_data"
    },
    {
     "data": {
      "image/png": "[encoded data removed]",
      "text/plain": [
       "<Figure size 640x480 with 2 Axes>"
      ]
     },
     "metadata": {},
     "output_type": "display_data"
    }
   ],
   "source": [
    "# ==================== CONFUSION MATRIX ====================\n",
    "preds = trainer.predict(val_dataset)\n",
    "y_true = val_labels\n",
    "y_pred = np.argmax(preds.predictions, axis=1)\n",
    "\n",
    "cm = confusion_matrix(y_true, y_pred)\n",
    "disp = ConfusionMatrixDisplay(cm, display_labels=list(label2id.keys()))\n",
    "disp.plot(cmap=\"Blues\", xticks_rotation=45)\n",
    "plt.title(\"Confusion Matrix on Validation Set\")\n",
    "plt.show()"
   ]
  },
  {
   "cell_type": "code",
   "execution_count": null,
   "id": "687b2af5",
   "metadata": {},
   "outputs": [
    {
     "name": "stdout",
     "output_type": "stream",
     "text": [
      "\n",
      "------ Classification Report ------\n",
      "               precision    recall  f1-score   support\n",
      "\n",
      "    chính trị     0.8773    0.8679    0.8725       560\n",
      "       cờ bạc     0.9893    0.9886    0.9889      6920\n",
      "          18+     0.9592    0.9314    0.9451       379\n",
      "nội dung khác     0.9425    0.9548    0.9486      1682\n",
      "\n",
      "     accuracy                         0.9733      9541\n",
      "    macro avg     0.9421    0.9357    0.9388      9541\n",
      " weighted avg     0.9733    0.9733    0.9733      9541\n",
      "\n"
     ]
    }
   ],
   "source": [
    "# ==================== ĐÁNH GIÁ ====================\n",
    "print(\"\\n------ Classification Report ------\")\n",
    "print(classification_report(\n",
    "    y_true,\n",
    "    y_pred,\n",
    "    target_names=list(label2id.keys()),\n",
    "    digits=4\n",
    "))"
   ]
  },
  {
   "cell_type": "code",
   "execution_count": null,
   "id": "87d6b9a5",
   "metadata": {},
   "outputs": [
    {
     "data": {
      "text/plain": [
       "('saved_model\\\\tokenizer_config.json',\n",
       " 'saved_model\\\\special_tokens_map.json',\n",
       " 'saved_model\\\\vocab.txt',\n",
       " 'saved_model\\\\added_tokens.json',\n",
       " 'saved_model\\\\tokenizer.json')"
      ]
     },
     "execution_count": 4,
     "metadata": {},
     "output_type": "execute_result"
    }
   ],
   "source": [
    "from transformers import DistilBertForSequenceClassification, DistilBertTokenizerFast\n",
    "\n",
    "# Chọn checkpoint cuối cùng\n",
    "checkpoint_path = \"./results/checkpoint-20757\"\n",
    "\n",
    "# Load model từ checkpoint (safetensors tự nhận)\n",
    "model = DistilBertForSequenceClassification.from_pretrained(checkpoint_path)\n",
    "\n",
    "# Load tokenizer\n",
    "tokenizer = DistilBertTokenizerFast.from_pretrained(\"distilbert-base-uncased\")\n",
    "\n",
    "# Lưu lại toàn bộ model + tokenizer\n",
    "model.save_pretrained(\"saved_model\")\n",
    "tokenizer.save_pretrained(\"saved_model\")"
   ]
  }
 ],
 "metadata": {
  "kernelspec": {
   "display_name": "Python 3",
   "language": "python",
   "name": "python3"
  },
  "language_info": {
   "codemirror_mode": {
    "name": "ipython",
    "version": 3
   },
   "file_extension": ".py",
   "mimetype": "text/x-python",
   "name": "python",
   "nbconvert_exporter": "python",
   "pygments_lexer": "ipython3",
   "version": "3.13.7"
  }
 },
 "nbformat": 4,
 "nbformat_minor": 5
}
